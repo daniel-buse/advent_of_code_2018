{
 "cells": [
  {
   "cell_type": "markdown",
   "metadata": {},
   "source": [
    "# [Advent of Code 2018](https://adventofcode.com/2018)\n",
    "\n",
    "## Notes\n",
    "\n",
    "To get better at Python, I sometimes will refactor the initial solution into something more concise and readable. I will always put the initial soltuion first and put any refactored code below.\n",
    "\n",
    "## Some helper code\n",
    "\n",
    "Parts are copied and adapted from [Peter Norvig's code](https://nbviewer.jupyter.org/github/norvig/pytudes/blob/master/ipynb/Advent%202017.ipynb) from 2017.\n",
    "\n",
    "This will likely grow as the challange goes on."
   ]
  },
  {
   "cell_type": "code",
   "execution_count": 1,
   "metadata": {},
   "outputs": [],
   "source": [
    "from itertools import (permutations, combinations, chain, cycle, product, islice, \n",
    "                       takewhile, zip_longest, count as count_from)\n",
    "from collections import (namedtuple, defaultdict)\n",
    "from datetime import (datetime)\n",
    "import re\n",
    "\n",
    "letters  = \"abcdefghijklmnopqrstuvwxyz\"\n",
    "BIG = 10 ** 999\n",
    "\n",
    "\n",
    "def Input(day):\n",
    "    \"Open this day's input file.\"\n",
    "    filename = 'data/input{}.txt'.format(day)\n",
    "    return open(filename)\n",
    "\n",
    "def Inputstr(day): \n",
    "    \"The contents of this day's input file as a str.\"\n",
    "    return Input(day).read().rstrip('\\n')\n",
    "\n",
    "def first(iterable, default=None): \n",
    "    \"The first item in an iterable, or default if it is empty.\"\n",
    "    return next(iter(iterable), default)\n",
    "\n",
    "def nth(iterable, n, default=None):\n",
    "    \"Returns the nth item of iterable, or a default value\"\n",
    "    return next(islice(iterable, n, None), default)\n",
    "\n",
    "def mapt(fn, *args): \n",
    "    \"Do a map, and make the results into a tuple.\"\n",
    "    return tuple(map(fn, *args))\n",
    "\n",
    "def quantify(iterable, pred=bool):\n",
    "    \"Count how many times the predicate is true.\"\n",
    "    return sum(map(pred, iterable))\n",
    "\n",
    "def window(seq, n=2):\n",
    "    \"Returns a sliding window (of width n) over data from the iterable\"\n",
    "    \"   s -> (s0,s1,...s[n-1]), (s1,s2,...,sn), ...                   \"\n",
    "    it = iter(seq)\n",
    "    result = tuple(islice(it, n))\n",
    "    if len(result) == n:\n",
    "        yield result    \n",
    "    for elem in it:\n",
    "        result = result[1:] + (elem,)\n",
    "        yield result\n",
    "        \n",
    "################ 2-D points implemented using (x, y) tuples\n",
    "\n",
    "def X(point): return point[0]\n",
    "def Y(point): return point[1]\n",
    "\n",
    "origin = (0, 0)\n",
    "HEADINGS = UP, LEFT, DOWN, RIGHT = (0, -1), (-1, 0), (0, 1), (1, 0)\n",
    "\n",
    "def turn_right(heading): return HEADINGS[HEADINGS.index(heading) - 1]\n",
    "def turn_around(heading):return HEADINGS[HEADINGS.index(heading) - 2]\n",
    "def turn_left(heading):  return HEADINGS[HEADINGS.index(heading) - 3]\n",
    "\n",
    "def add(A, B): \n",
    "    \"Element-wise addition of two n-dimensional vectors.\"\n",
    "    return mapt(sum, zip(A, B))\n",
    "\n",
    "def neighbors4(point): \n",
    "    \"The four neighboring squares.\"\n",
    "    x, y = point\n",
    "    return (          (x, y-1),\n",
    "            (x-1, y),           (x+1, y), \n",
    "                      (x, y+1))\n",
    "\n",
    "def neighbors8(point): \n",
    "    \"The eight neighboring squares.\"\n",
    "    x, y = point \n",
    "    return ((x-1, y-1), (x, y-1), (x+1, y-1),\n",
    "            (x-1, y),             (x+1, y),\n",
    "            (x-1, y+1), (x, y+1), (x+1, y+1))\n",
    "\n",
    "def cityblock_distance(P, Q=origin): \n",
    "    \"Manhatten distance between two points.\"\n",
    "    return sum(abs(p - q) for p, q in zip(P, Q))\n",
    "\n",
    "def distance(P, Q=origin): \n",
    "    \"Straight-line (hypotenuse) distance between two points.\"\n",
    "    return sum((p - q) ** 2 for p, q in zip(P, Q)) ** 0.5\n",
    "\n",
    "def king_distance(P, Q=origin):\n",
    "    \"Number of chess King moves between two points.\"\n",
    "    return max(abs(p - q) for p, q in zip(P, Q))\n"
   ]
  },
  {
   "cell_type": "markdown",
   "metadata": {},
   "source": [
    "# Day 1"
   ]
  },
  {
   "cell_type": "markdown",
   "metadata": {},
   "source": [
    "## Data"
   ]
  },
  {
   "cell_type": "code",
   "execution_count": 2,
   "metadata": {},
   "outputs": [],
   "source": [
    "day1_data = mapt(int, Inputstr(1).splitlines())"
   ]
  },
  {
   "cell_type": "markdown",
   "metadata": {},
   "source": [
    "## Part One"
   ]
  },
  {
   "cell_type": "code",
   "execution_count": 3,
   "metadata": {},
   "outputs": [
    {
     "data": {
      "text/plain": [
       "500"
      ]
     },
     "execution_count": 3,
     "metadata": {},
     "output_type": "execute_result"
    }
   ],
   "source": [
    "sum(day1_data)"
   ]
  },
  {
   "cell_type": "markdown",
   "metadata": {},
   "source": [
    "## Part Two"
   ]
  },
  {
   "cell_type": "code",
   "execution_count": 4,
   "metadata": {},
   "outputs": [
    {
     "data": {
      "text/plain": [
       "709"
      ]
     },
     "execution_count": 4,
     "metadata": {},
     "output_type": "execute_result"
    }
   ],
   "source": [
    "def get_repeated_sequence():\n",
    "    result = 0\n",
    "    results = {0}\n",
    "    while True:\n",
    "        for val in day1_data:\n",
    "            result += val\n",
    "            if result in results:\n",
    "                return result\n",
    "            else:\n",
    "                results.add(result)\n",
    "\n",
    "get_repeated_sequence()"
   ]
  },
  {
   "cell_type": "markdown",
   "metadata": {},
   "source": [
    "# Day 2"
   ]
  },
  {
   "cell_type": "markdown",
   "metadata": {},
   "source": [
    "## Data"
   ]
  },
  {
   "cell_type": "code",
   "execution_count": 5,
   "metadata": {},
   "outputs": [],
   "source": [
    "day2_data = tuple(Inputstr(2).splitlines())"
   ]
  },
  {
   "cell_type": "markdown",
   "metadata": {},
   "source": [
    "## Part One"
   ]
  },
  {
   "cell_type": "code",
   "execution_count": 6,
   "metadata": {},
   "outputs": [
    {
     "data": {
      "text/plain": [
       "6225"
      ]
     },
     "execution_count": 6,
     "metadata": {},
     "output_type": "execute_result"
    }
   ],
   "source": [
    "twice_count = 0\n",
    "thrice_count = 0\n",
    "for id in day2_data:\n",
    "    has_twice = False\n",
    "    has_trice = False\n",
    "    for c in id:\n",
    "        c_count = id.count(c)\n",
    "        if c_count == 2:\n",
    "            has_twice = True\n",
    "        elif c_count == 3:\n",
    "            has_trice = True\n",
    "        if has_twice and has_trice:\n",
    "            break\n",
    "    if has_twice:\n",
    "        twice_count += 1\n",
    "    if has_trice:\n",
    "        thrice_count += 1\n",
    "    \n",
    "twice_count * thrice_count"
   ]
  },
  {
   "cell_type": "markdown",
   "metadata": {},
   "source": [
    "### Refactor"
   ]
  },
  {
   "cell_type": "code",
   "execution_count": 7,
   "metadata": {},
   "outputs": [
    {
     "data": {
      "text/plain": [
       "6225"
      ]
     },
     "execution_count": 7,
     "metadata": {},
     "output_type": "execute_result"
    }
   ],
   "source": [
    "def has_char_occur_exact_n_times(id, n):\n",
    "    return any(id.count(c) == n for c in id)\n",
    "\n",
    "def has_char_occur_twice(id):\n",
    "    return has_char_occur_exact_n_times(id, 2)\n",
    "\n",
    "def has_char_occur_thrice(id):\n",
    "    return has_char_occur_exact_n_times(id, 3)\n",
    "\n",
    "twice_count = quantify(day2_data, has_char_occur_twice)\n",
    "thrice_count = quantify(day2_data, has_char_occur_thrice)\n",
    "twice_count * thrice_count"
   ]
  },
  {
   "cell_type": "markdown",
   "metadata": {},
   "source": [
    "## Part Two"
   ]
  },
  {
   "cell_type": "code",
   "execution_count": 8,
   "metadata": {},
   "outputs": [
    {
     "data": {
      "text/plain": [
       "'revtaubfniyhsgxdoajwkqilp'"
      ]
     },
     "execution_count": 8,
     "metadata": {},
     "output_type": "execute_result"
    }
   ],
   "source": [
    "def common_chars(id1, id2):\n",
    "    return ''.join(c1 for (c1, c2) in zip(id1, id2) if c1 == c2)\n",
    "\n",
    "def get_correct_common_part():\n",
    "    for (id1, id2) in combinations(day2_data, 2):\n",
    "        common = common_chars(id1, id2)\n",
    "        if len(common) + 1 == len(id1):\n",
    "            return common\n",
    "        \n",
    "get_correct_common_part()"
   ]
  },
  {
   "cell_type": "markdown",
   "metadata": {},
   "source": [
    "# Day3\n",
    "\n",
    "## Data"
   ]
  },
  {
   "cell_type": "code",
   "execution_count": 9,
   "metadata": {},
   "outputs": [],
   "source": [
    "def parse_input_line(line):\n",
    "    tokens = tuple(line.split(\" \"))\n",
    "    # \"#\"int_str -> int\n",
    "    id = int(tokens[0][1:])\n",
    "    # tokens[1] is a @ and not needed\n",
    "    # int_str\",\"int_str: -> (int, int)\n",
    "    top_left = mapt(int, tokens[2][:-1].split(\",\"))\n",
    "    # int_str\"x\"int_str -> (int, int)\n",
    "    (width, height) = mapt(int, tokens[3].split(\"x\"))\n",
    "    return (id, top_left, width, height)\n",
    "    \n",
    "day3_data = mapt(parse_input_line, Inputstr(3).splitlines())"
   ]
  },
  {
   "cell_type": "markdown",
   "metadata": {},
   "source": [
    "## Part One"
   ]
  },
  {
   "cell_type": "code",
   "execution_count": 10,
   "metadata": {},
   "outputs": [
    {
     "data": {
      "text/plain": [
       "110389"
      ]
     },
     "execution_count": 10,
     "metadata": {},
     "output_type": "execute_result"
    }
   ],
   "source": [
    "data = [[0 for x in range(1000)] for x in range(1000)]\n",
    "for (_, top_left, width, height) in day3_data:\n",
    "    for x in range(top_left[0], top_left[0]+ width):\n",
    "        for y in range(top_left[1], top_left[1] + height):\n",
    "            data[x][y] += 1\n",
    "count = 0            \n",
    "for x in range(1000):\n",
    "    for y in range(1000):\n",
    "        if data[x][y] > 1:\n",
    "            count += 1\n",
    "            \n",
    "count"
   ]
  },
  {
   "cell_type": "markdown",
   "metadata": {},
   "source": [
    "## Part Two"
   ]
  },
  {
   "cell_type": "code",
   "execution_count": 11,
   "metadata": {},
   "outputs": [
    {
     "data": {
      "text/plain": [
       "552"
      ]
     },
     "execution_count": 11,
     "metadata": {},
     "output_type": "execute_result"
    }
   ],
   "source": [
    "def transform_some_more(data):\n",
    "    (id, top_left, width, height) = data\n",
    "    bottom_right = (top_left[0] + width - 1, top_left[1] + height - 1)\n",
    "    return (id, top_left, bottom_right)\n",
    "    \n",
    "day3_data_p_two = mapt(transform_some_more, day3_data)\n",
    "\n",
    "def overlap(box1, box2):\n",
    "    (_, min1, max1) = box1\n",
    "    (_, min2, max2) = box2\n",
    "    if min1[0] > max2[0] or max1[0] < min2[0]:\n",
    "        return False\n",
    "    if min1[1] > max2[1] or max1[1] < min2[1]:\n",
    "        return False\n",
    "    return True\n",
    "\n",
    "def do_it():\n",
    "    for i in range(len(day3_data_p_two)):\n",
    "        this_is_it = True\n",
    "        box1 = day3_data_p_two[i]\n",
    "        for j in range(len(day3_data_p_two)):\n",
    "            if i == j:\n",
    "                continue\n",
    "            box2 = day3_data_p_two[j]\n",
    "            if overlap(box1, box2):\n",
    "                this_is_it = False\n",
    "                break\n",
    "        if this_is_it:\n",
    "            return box1[0]\n",
    "        \n",
    "do_it()\n",
    "            "
   ]
  },
  {
   "cell_type": "markdown",
   "metadata": {},
   "source": [
    "# Day 4\n",
    "\n",
    "## Data"
   ]
  },
  {
   "cell_type": "code",
   "execution_count": 12,
   "metadata": {},
   "outputs": [],
   "source": [
    "guard_re = re.compile(r\"\\d+\")\n",
    "\n",
    "\n",
    "def parse_input_line(line):\n",
    "    # [1518-09-16 23:57] Guard #1889 begins shift\n",
    "    date_str = line[1:17]\n",
    "    date = datetime.fromisoformat(date_str)\n",
    "    rest = line[19:]\n",
    "    if rest == \"falls asleep\":\n",
    "        return (date, 0)\n",
    "    elif rest == \"wakes up\":\n",
    "        return (date, 1)\n",
    "    else:\n",
    "        return (date, 2, int(guard_re.search(rest).group()))\n",
    "\n",
    "\n",
    "day4_data = sorted(\n",
    "    mapt(parse_input_line,\n",
    "         Inputstr(4).splitlines()), key=lambda x: x[0])"
   ]
  },
  {
   "cell_type": "markdown",
   "metadata": {},
   "source": [
    "## Part One"
   ]
  },
  {
   "cell_type": "code",
   "execution_count": 13,
   "metadata": {},
   "outputs": [
    {
     "data": {
      "text/plain": [
       "76357"
      ]
     },
     "execution_count": 13,
     "metadata": {},
     "output_type": "execute_result"
    }
   ],
   "source": [
    "guard_id = None\n",
    "sleep_minute = None\n",
    "guard_d = dict()\n",
    "for datum in day4_data:\n",
    "    if datum[1] == 0:\n",
    "        sleep_minute = datum[0].minute\n",
    "    elif datum[1] == 1:\n",
    "        for i in range(sleep_minute, datum[0].minute):\n",
    "            guard_d[guard_id][i] += 1\n",
    "    else:\n",
    "        guard_id = datum[2]\n",
    "        if guard_id not in guard_d:\n",
    "            guard_d[guard_id] = [0 for x in range(60)]\n",
    "max_sum = 0\n",
    "most_slept = None\n",
    "for id, times in guard_d.items():\n",
    "    s = sum(times)\n",
    "    if s > max_sum:\n",
    "        most_slept = id\n",
    "        max_sum = s\n",
    "times = guard_d[most_slept]\n",
    "max_minute = times.index(max(times))\n",
    "\n",
    "max_minute * most_slept\n"
   ]
  },
  {
   "cell_type": "markdown",
   "metadata": {},
   "source": [
    "## Part Two"
   ]
  },
  {
   "cell_type": "code",
   "execution_count": 14,
   "metadata": {},
   "outputs": [
    {
     "data": {
      "text/plain": [
       "41668"
      ]
     },
     "execution_count": 14,
     "metadata": {},
     "output_type": "execute_result"
    }
   ],
   "source": [
    "biggest_max = 0\n",
    "minute = None\n",
    "guard = None\n",
    "for id, times in guard_d.items():\n",
    "    m = max(times)\n",
    "    if m > biggest_max:\n",
    "        biggest_max = m\n",
    "        minute = times.index(m)\n",
    "        guard = id\n",
    "\n",
    "minute * guard\n"
   ]
  },
  {
   "cell_type": "markdown",
   "metadata": {},
   "source": [
    "# Day 5\n",
    "\n",
    "## Data"
   ]
  },
  {
   "cell_type": "code",
   "execution_count": 15,
   "metadata": {},
   "outputs": [],
   "source": [
    "day5_data = Inputstr(5)"
   ]
  },
  {
   "cell_type": "markdown",
   "metadata": {},
   "source": [
    "## Part One"
   ]
  },
  {
   "cell_type": "code",
   "execution_count": 16,
   "metadata": {},
   "outputs": [
    {
     "data": {
      "text/plain": [
       "9238"
      ]
     },
     "execution_count": 16,
     "metadata": {},
     "output_type": "execute_result"
    }
   ],
   "source": [
    "polymer = day5_data\n",
    "\n",
    "def check(a, b):\n",
    "    return abs(ord(a) - ord(b)) == 32\n",
    "\n",
    "def react(polymer):\n",
    "    buf = []\n",
    "    for c in polymer:\n",
    "        if buf and check(c, buf[-1]):\n",
    "            buf.pop()\n",
    "        else:\n",
    "            buf.append(c)\n",
    "    return len(buf)\n",
    "    \n",
    "react(polymer)\n",
    "  "
   ]
  },
  {
   "cell_type": "markdown",
   "metadata": {},
   "source": [
    "## Part Two"
   ]
  },
  {
   "cell_type": "code",
   "execution_count": 17,
   "metadata": {},
   "outputs": [
    {
     "name": "stdout",
     "output_type": "stream",
     "text": [
      "4052\n"
     ]
    }
   ],
   "source": [
    "shortest = BIG\n",
    "for a,A in zip(letters, letters.upper()):\n",
    "    polymer = day5_data.replace(a, \"\").replace(A, \"\")\n",
    "    shortest = min(shortest, react(polymer))\n",
    "    \n",
    "print(shortest)"
   ]
  },
  {
   "cell_type": "markdown",
   "metadata": {},
   "source": [
    "# Day 6\n",
    "## Data"
   ]
  },
  {
   "cell_type": "code",
   "execution_count": 18,
   "metadata": {},
   "outputs": [],
   "source": [
    "def parse_input_line(line):\n",
    "    return mapt(int, line.split(\", \"))\n",
    "\n",
    "day6_data = mapt(parse_input_line, Inputstr(6).splitlines())"
   ]
  },
  {
   "cell_type": "markdown",
   "metadata": {},
   "source": [
    "## Part 1"
   ]
  },
  {
   "cell_type": "code",
   "execution_count": 19,
   "metadata": {},
   "outputs": [],
   "source": [
    "# hmmm, not sure yet"
   ]
  },
  {
   "cell_type": "markdown",
   "metadata": {},
   "source": [
    "## Part 2"
   ]
  },
  {
   "cell_type": "code",
   "execution_count": 20,
   "metadata": {},
   "outputs": [],
   "source": [
    "# TBD"
   ]
  },
  {
   "cell_type": "markdown",
   "metadata": {},
   "source": [
    "# Day 7\n",
    "\n",
    "## Data"
   ]
  },
  {
   "cell_type": "code",
   "execution_count": 21,
   "metadata": {},
   "outputs": [],
   "source": [
    "regex = re.compile(r\"[A-Z]\")\n",
    "\n",
    "def parse_input_line(line):\n",
    "    # Step Z must be finished before step V can begin.\n",
    "    return tuple(reversed(regex.findall(line)[1:]))\n",
    "\n",
    "day7_data = mapt(parse_input_line, Inputstr(7).splitlines())"
   ]
  },
  {
   "cell_type": "markdown",
   "metadata": {},
   "source": [
    "## Part One"
   ]
  },
  {
   "cell_type": "code",
   "execution_count": 22,
   "metadata": {},
   "outputs": [
    {
     "data": {
      "text/plain": [
       "'JMQZELVYXTIGPHFNSOADKWBRUC'"
      ]
     },
     "execution_count": 22,
     "metadata": {},
     "output_type": "execute_result"
    }
   ],
   "source": [
    "D = dict()\n",
    "for c in letters.upper():\n",
    "    D[c] = list()\n",
    "for k, v in day7_data:\n",
    "    D[k].append(v)\n",
    "result = []\n",
    "while len(D) > 0:\n",
    "    step = sorted([k for k,v in D.items() if len(v) == 0])[0]\n",
    "    result.append(step)\n",
    "    D.pop(step)\n",
    "    for _, v in D.items():\n",
    "        try:\n",
    "            v.remove(step)\n",
    "        except ValueError:\n",
    "            pass\n",
    "\"\".join(result)"
   ]
  },
  {
   "cell_type": "markdown",
   "metadata": {},
   "source": [
    "## Part Two"
   ]
  },
  {
   "cell_type": "code",
   "execution_count": 23,
   "metadata": {},
   "outputs": [
    {
     "data": {
      "text/plain": [
       "1133"
      ]
     },
     "execution_count": 23,
     "metadata": {},
     "output_type": "execute_result"
    }
   ],
   "source": [
    "def req_t(step):\n",
    "    return ord(step) - ord(\"A\") + 61\n",
    "\n",
    "D = dict()\n",
    "for c in letters.upper():\n",
    "    D[c] = list()\n",
    "for k, v in day7_data:\n",
    "    D[k].append(v)\n",
    "    \n",
    "t = 0\n",
    "idle_workers = [0,1,2,3,4]\n",
    "active_workers = []\n",
    "while True:\n",
    "    # process active workers\n",
    "    if active_workers:\n",
    "        done_workers = [(w, s) for (w, s, s_t) in active_workers if req_t(s) == s_t]\n",
    "        active_workers = [(w, s, s_t + 1) for (w, s, s_t) in active_workers if req_t(s) > s_t]\n",
    "        # add done workers back to idle pile and update step deps\n",
    "        for (worker, step) in done_workers:\n",
    "            idle_workers.append(worker)\n",
    "            for _, v in D.items():\n",
    "                try:\n",
    "                    v.remove(step)\n",
    "                except ValueError:\n",
    "                    pass\n",
    "    # process idle workers\n",
    "    if idle_workers:\n",
    "        available_steps = sorted([k for k,v in D.items() if len(v) == 0])\n",
    "        min_s = min(len(idle_workers), len(available_steps))\n",
    "        for _ in range(min_s):\n",
    "            worker = idle_workers.pop(0)\n",
    "            step = available_steps.pop(0)\n",
    "            D.pop(step)\n",
    "            # steps get one unit from here\n",
    "            active_workers.append((worker, step, 1))\n",
    "    # check if we are done\n",
    "    # we musn't increment t on the tick we're done to get the correct result\n",
    "    if not D and not active_workers:\n",
    "        break\n",
    "    t += 1\n",
    "    \n",
    "t"
   ]
  },
  {
   "cell_type": "markdown",
   "metadata": {},
   "source": [
    "# Day 8\n",
    "\n",
    "## Data"
   ]
  },
  {
   "cell_type": "code",
   "execution_count": 24,
   "metadata": {},
   "outputs": [],
   "source": [
    "day8_data = list(map(int, Inputstr(8).split(\" \")))"
   ]
  },
  {
   "cell_type": "markdown",
   "metadata": {},
   "source": [
    "## Part One"
   ]
  },
  {
   "cell_type": "code",
   "execution_count": 25,
   "metadata": {},
   "outputs": [
    {
     "data": {
      "text/plain": [
       "40908"
      ]
     },
     "execution_count": 25,
     "metadata": {},
     "output_type": "execute_result"
    }
   ],
   "source": [
    "metadata = []\n",
    "i = 0\n",
    "def walk():\n",
    "    global metadata\n",
    "    global i\n",
    "    num_childs = day8_data[i]\n",
    "    num_metadata = day8_data[i + 1]\n",
    "    i += 2\n",
    "    for _ in range(num_childs):\n",
    "        walk()\n",
    "    metadata.extend(day8_data[i : i + num_metadata])\n",
    "    i += num_metadata\n",
    "walk()\n",
    "sum(metadata)"
   ]
  },
  {
   "cell_type": "markdown",
   "metadata": {},
   "source": [
    "## Part Two"
   ]
  },
  {
   "cell_type": "code",
   "execution_count": 27,
   "metadata": {},
   "outputs": [
    {
     "data": {
      "text/plain": [
       "25910"
      ]
     },
     "execution_count": 27,
     "metadata": {},
     "output_type": "execute_result"
    }
   ],
   "source": [
    "i = 0\n",
    "child_map = defaultdict(dict)\n",
    "node_count = 1\n",
    "def walk(parent, child):\n",
    "    global i\n",
    "    global child_map\n",
    "    global node_count\n",
    "    me = node_count\n",
    "    node_count += 1\n",
    "    num_childs = day8_data[i]\n",
    "    num_metadata = day8_data[i + 1]\n",
    "    i += 2\n",
    "    for c in range(1, num_childs + 1):\n",
    "        walk(me, c)\n",
    "    metadata = day8_data[i : i + num_metadata]\n",
    "    i += num_metadata\n",
    "    if num_childs == 0:\n",
    "        child_map[parent][child] = sum(metadata)\n",
    "    else:\n",
    "        child_map[parent][child] = sum([child_map[me].get(m, 0) for m in metadata])\n",
    "walk(0, 1)\n",
    "child_map[0][1]\n",
    "        "
   ]
  },
  {
   "cell_type": "code",
   "execution_count": null,
   "metadata": {},
   "outputs": [],
   "source": []
  }
 ],
 "metadata": {
  "kernelspec": {
   "display_name": "Python 3",
   "language": "python",
   "name": "python3"
  },
  "language_info": {
   "codemirror_mode": {
    "name": "ipython",
    "version": 3
   },
   "file_extension": ".py",
   "mimetype": "text/x-python",
   "name": "python",
   "nbconvert_exporter": "python",
   "pygments_lexer": "ipython3",
   "version": "3.7.0"
  }
 },
 "nbformat": 4,
 "nbformat_minor": 2
}
