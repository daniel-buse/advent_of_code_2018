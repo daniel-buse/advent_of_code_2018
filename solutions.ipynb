{
 "cells": [
  {
   "cell_type": "markdown",
   "metadata": {},
   "source": [
    "# [Advent of Code 2018](https://adventofcode.com/2018)\n",
    "\n",
    "## Notes\n",
    "\n",
    "To get better at Python, I sometimes will refactor the initial solution into something more concise and readable. I will always put the initial soltuion first and put any refactored code below.\n",
    "\n",
    "## Some helper code\n",
    "\n",
    "Parts are copied and adapted from [Peter Norvig's code](https://nbviewer.jupyter.org/github/norvig/pytudes/blob/master/ipynb/Advent%202017.ipynb) from 2017.\n",
    "\n",
    "This will likely grow as the challange goes on."
   ]
  },
  {
   "cell_type": "code",
   "execution_count": 1,
   "metadata": {},
   "outputs": [],
   "source": [
    "from itertools import (permutations, combinations, chain, cycle, product, islice, \n",
    "                       takewhile, zip_longest, count as count_from)\n",
    "\n",
    "def Input(day):\n",
    "    \"Open this day's input file.\"\n",
    "    filename = 'data/input{}.txt'.format(day)\n",
    "    return open(filename)\n",
    "\n",
    "def Inputstr(day): \n",
    "    \"The contents of this day's input file as a str.\"\n",
    "    return Input(day).read().rstrip('\\n')\n",
    "\n",
    "def first(iterable, default=None): \n",
    "    \"The first item in an iterable, or default if it is empty.\"\n",
    "    return next(iter(iterable), default)\n",
    "\n",
    "def nth(iterable, n, default=None):\n",
    "    \"Returns the nth item of iterable, or a default value\"\n",
    "    return next(islice(iterable, n, None), default)\n",
    "\n",
    "def mapt(fn, *args): \n",
    "    \"Do a map, and make the results into a tuple.\"\n",
    "    return tuple(map(fn, *args))\n",
    "\n",
    "def quantify(iterable, pred=bool):\n",
    "    \"Count how many times the predicate is true.\"\n",
    "    return sum(map(pred, iterable))"
   ]
  },
  {
   "cell_type": "markdown",
   "metadata": {},
   "source": [
    "# Day 1"
   ]
  },
  {
   "cell_type": "markdown",
   "metadata": {},
   "source": [
    "## Data"
   ]
  },
  {
   "cell_type": "code",
   "execution_count": 2,
   "metadata": {},
   "outputs": [],
   "source": [
    "day1_data = mapt(int, Inputstr(1).splitlines())"
   ]
  },
  {
   "cell_type": "markdown",
   "metadata": {},
   "source": [
    "## Part One"
   ]
  },
  {
   "cell_type": "code",
   "execution_count": 3,
   "metadata": {},
   "outputs": [
    {
     "data": {
      "text/plain": [
       "500"
      ]
     },
     "execution_count": 3,
     "metadata": {},
     "output_type": "execute_result"
    }
   ],
   "source": [
    "sum(day1_data)"
   ]
  },
  {
   "cell_type": "markdown",
   "metadata": {},
   "source": [
    "## Part Two"
   ]
  },
  {
   "cell_type": "code",
   "execution_count": 4,
   "metadata": {},
   "outputs": [
    {
     "data": {
      "text/plain": [
       "709"
      ]
     },
     "execution_count": 4,
     "metadata": {},
     "output_type": "execute_result"
    }
   ],
   "source": [
    "def get_repeated_sequence():\n",
    "    result = 0\n",
    "    results = {0}\n",
    "    while True:\n",
    "        for val in day1_data:\n",
    "            result += val\n",
    "            if result in results:\n",
    "                return result\n",
    "            else:\n",
    "                results.add(result)\n",
    "\n",
    "get_repeated_sequence()"
   ]
  },
  {
   "cell_type": "markdown",
   "metadata": {},
   "source": [
    "# Day 2"
   ]
  },
  {
   "cell_type": "markdown",
   "metadata": {},
   "source": [
    "## Data"
   ]
  },
  {
   "cell_type": "code",
   "execution_count": 5,
   "metadata": {},
   "outputs": [],
   "source": [
    "day2_data = tuple(Inputstr(2).splitlines())"
   ]
  },
  {
   "cell_type": "markdown",
   "metadata": {},
   "source": [
    "## Part One"
   ]
  },
  {
   "cell_type": "code",
   "execution_count": 6,
   "metadata": {},
   "outputs": [
    {
     "data": {
      "text/plain": [
       "6225"
      ]
     },
     "execution_count": 6,
     "metadata": {},
     "output_type": "execute_result"
    }
   ],
   "source": [
    "twice_count = 0\n",
    "thrice_count = 0\n",
    "for id in day2_data:\n",
    "    has_twice = False\n",
    "    has_trice = False\n",
    "    for c in id:\n",
    "        c_count = id.count(c)\n",
    "        if c_count == 2:\n",
    "            has_twice = True\n",
    "        elif c_count == 3:\n",
    "            has_trice = True\n",
    "        if has_twice and has_trice:\n",
    "            break\n",
    "    if has_twice:\n",
    "        twice_count += 1\n",
    "    if has_trice:\n",
    "        thrice_count += 1\n",
    "    \n",
    "twice_count * thrice_count"
   ]
  },
  {
   "cell_type": "markdown",
   "metadata": {},
   "source": [
    "### Refactor"
   ]
  },
  {
   "cell_type": "code",
   "execution_count": 7,
   "metadata": {},
   "outputs": [
    {
     "data": {
      "text/plain": [
       "6225"
      ]
     },
     "execution_count": 7,
     "metadata": {},
     "output_type": "execute_result"
    }
   ],
   "source": [
    "def has_char_occur_exact_n_times(id, n):\n",
    "    return any(id.count(c) == n for c in id)\n",
    "\n",
    "def has_char_occur_twice(id):\n",
    "    return has_char_occur_exact_n_times(id, 2)\n",
    "\n",
    "def has_char_occur_thrice(id):\n",
    "    return has_char_occur_exact_n_times(id, 3)\n",
    "\n",
    "twice_count = quantify(day2_data, has_char_occur_twice)\n",
    "thrice_count = quantify(day2_data, has_char_occur_thrice)\n",
    "twice_count * thrice_count"
   ]
  },
  {
   "cell_type": "markdown",
   "metadata": {},
   "source": [
    "## Part Two"
   ]
  },
  {
   "cell_type": "code",
   "execution_count": 8,
   "metadata": {},
   "outputs": [
    {
     "data": {
      "text/plain": [
       "'revtaubfniyhsgxdoajwkqilp'"
      ]
     },
     "execution_count": 8,
     "metadata": {},
     "output_type": "execute_result"
    }
   ],
   "source": [
    "def common_chars(id1, id2):\n",
    "    return ''.join(c1 for (c1, c2) in zip(id1, id2) if c1 == c2)\n",
    "\n",
    "def get_correct_common_part():\n",
    "    for (id1, id2) in combinations(day2_data, 2):\n",
    "        common = common_chars(id1, id2)\n",
    "        if len(common) + 1 == len(id1):\n",
    "            return common\n",
    "        \n",
    "get_correct_common_part()"
   ]
  },
  {
   "cell_type": "code",
   "execution_count": null,
   "metadata": {},
   "outputs": [],
   "source": []
  }
 ],
 "metadata": {
  "kernelspec": {
   "display_name": "Python 3",
   "language": "python",
   "name": "python3"
  },
  "language_info": {
   "codemirror_mode": {
    "name": "ipython",
    "version": 3
   },
   "file_extension": ".py",
   "mimetype": "text/x-python",
   "name": "python",
   "nbconvert_exporter": "python",
   "pygments_lexer": "ipython3",
   "version": "3.7.0"
  }
 },
 "nbformat": 4,
 "nbformat_minor": 2
}
